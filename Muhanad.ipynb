{
 "cells": [
  {
   "cell_type": "code",
   "execution_count": 16,
   "id": "12cadeb6",
   "metadata": {},
   "outputs": [],
   "source": [
    "# Importing required libraries\n",
    "import sklearn\n",
    "import datetime\n",
    "import numpy as np\n",
    "import pandas as pd\n",
    "import seaborn as sns\n",
    "import plotly.express as px\n",
    "from functools import reduce\n",
    "import matplotlib.pyplot as plt\n",
    "# To ignore warnings\n",
    "import warnings\n",
    "warnings.filterwarnings(\"ignore\")"
   ]
  },
  {
   "cell_type": "code",
   "execution_count": 17,
   "id": "23e9cfb3",
   "metadata": {},
   "outputs": [],
   "source": [
    "df = pd.read_csv(\"weather-sa-2017-2019-clean.csv\")"
   ]
  },
  {
   "cell_type": "code",
   "execution_count": 18,
   "id": "210404a5",
   "metadata": {},
   "outputs": [
    {
     "data": {
      "text/plain": [
       "(249023, 15)"
      ]
     },
     "execution_count": 18,
     "metadata": {},
     "output_type": "execute_result"
    }
   ],
   "source": [
    "df.shape"
   ]
  },
  {
   "cell_type": "code",
   "execution_count": 19,
   "id": "e36790b6",
   "metadata": {},
   "outputs": [
    {
     "name": "stdout",
     "output_type": "stream",
     "text": [
      "<class 'pandas.core.frame.DataFrame'>\n",
      "RangeIndex: 249023 entries, 0 to 249022\n",
      "Data columns (total 15 columns):\n",
      " #   Column      Non-Null Count   Dtype  \n",
      "---  ------      --------------   -----  \n",
      " 0   Unnamed: 0  249023 non-null  int64  \n",
      " 1   city        249023 non-null  object \n",
      " 2   date        249023 non-null  object \n",
      " 3   time        249023 non-null  object \n",
      " 4   year        249023 non-null  int64  \n",
      " 5   month       249023 non-null  int64  \n",
      " 6   day         249023 non-null  int64  \n",
      " 7   hour        249023 non-null  int64  \n",
      " 8   minute      249023 non-null  int64  \n",
      " 9   weather     249023 non-null  object \n",
      " 10  temp        249023 non-null  int64  \n",
      " 11  wind        249023 non-null  int64  \n",
      " 12  humidity    249006 non-null  object \n",
      " 13  barometer   248951 non-null  float64\n",
      " 14  visibility  249023 non-null  int64  \n",
      "dtypes: float64(1), int64(9), object(5)\n",
      "memory usage: 28.5+ MB\n"
     ]
    }
   ],
   "source": [
    "df.info()"
   ]
  },
  {
   "cell_type": "code",
   "execution_count": 20,
   "id": "a6f778e5",
   "metadata": {},
   "outputs": [
    {
     "data": {
      "text/html": [
       "<div>\n",
       "<style scoped>\n",
       "    .dataframe tbody tr th:only-of-type {\n",
       "        vertical-align: middle;\n",
       "    }\n",
       "\n",
       "    .dataframe tbody tr th {\n",
       "        vertical-align: top;\n",
       "    }\n",
       "\n",
       "    .dataframe thead th {\n",
       "        text-align: right;\n",
       "    }\n",
       "</style>\n",
       "<table border=\"1\" class=\"dataframe\">\n",
       "  <thead>\n",
       "    <tr style=\"text-align: right;\">\n",
       "      <th></th>\n",
       "      <th>Unnamed: 0</th>\n",
       "      <th>city</th>\n",
       "      <th>date</th>\n",
       "      <th>time</th>\n",
       "      <th>year</th>\n",
       "      <th>month</th>\n",
       "      <th>day</th>\n",
       "      <th>hour</th>\n",
       "      <th>minute</th>\n",
       "      <th>weather</th>\n",
       "      <th>temp</th>\n",
       "      <th>wind</th>\n",
       "      <th>humidity</th>\n",
       "      <th>barometer</th>\n",
       "      <th>visibility</th>\n",
       "    </tr>\n",
       "  </thead>\n",
       "  <tbody>\n",
       "    <tr>\n",
       "      <th>0</th>\n",
       "      <td>0</td>\n",
       "      <td>Qassim</td>\n",
       "      <td>1 January 2017</td>\n",
       "      <td>00:00</td>\n",
       "      <td>2017</td>\n",
       "      <td>1</td>\n",
       "      <td>1</td>\n",
       "      <td>24</td>\n",
       "      <td>0</td>\n",
       "      <td>Clear</td>\n",
       "      <td>17</td>\n",
       "      <td>11</td>\n",
       "      <td>64%</td>\n",
       "      <td>1018.0</td>\n",
       "      <td>16</td>\n",
       "    </tr>\n",
       "    <tr>\n",
       "      <th>1</th>\n",
       "      <td>1</td>\n",
       "      <td>Qassim</td>\n",
       "      <td>1 January 2017</td>\n",
       "      <td>01:00</td>\n",
       "      <td>2017</td>\n",
       "      <td>1</td>\n",
       "      <td>1</td>\n",
       "      <td>1</td>\n",
       "      <td>0</td>\n",
       "      <td>Clear</td>\n",
       "      <td>17</td>\n",
       "      <td>6</td>\n",
       "      <td>64%</td>\n",
       "      <td>1018.0</td>\n",
       "      <td>16</td>\n",
       "    </tr>\n",
       "    <tr>\n",
       "      <th>2</th>\n",
       "      <td>2</td>\n",
       "      <td>Qassim</td>\n",
       "      <td>1 January 2017</td>\n",
       "      <td>03:00</td>\n",
       "      <td>2017</td>\n",
       "      <td>1</td>\n",
       "      <td>1</td>\n",
       "      <td>3</td>\n",
       "      <td>0</td>\n",
       "      <td>Clear</td>\n",
       "      <td>15</td>\n",
       "      <td>11</td>\n",
       "      <td>72%</td>\n",
       "      <td>1019.0</td>\n",
       "      <td>16</td>\n",
       "    </tr>\n",
       "    <tr>\n",
       "      <th>3</th>\n",
       "      <td>3</td>\n",
       "      <td>Qassim</td>\n",
       "      <td>1 January 2017</td>\n",
       "      <td>04:00</td>\n",
       "      <td>2017</td>\n",
       "      <td>1</td>\n",
       "      <td>1</td>\n",
       "      <td>4</td>\n",
       "      <td>0</td>\n",
       "      <td>Clear</td>\n",
       "      <td>15</td>\n",
       "      <td>11</td>\n",
       "      <td>72%</td>\n",
       "      <td>1019.0</td>\n",
       "      <td>16</td>\n",
       "    </tr>\n",
       "    <tr>\n",
       "      <th>4</th>\n",
       "      <td>4</td>\n",
       "      <td>Qassim</td>\n",
       "      <td>1 January 2017</td>\n",
       "      <td>05:00</td>\n",
       "      <td>2017</td>\n",
       "      <td>1</td>\n",
       "      <td>1</td>\n",
       "      <td>5</td>\n",
       "      <td>0</td>\n",
       "      <td>Clear</td>\n",
       "      <td>15</td>\n",
       "      <td>9</td>\n",
       "      <td>72%</td>\n",
       "      <td>1019.0</td>\n",
       "      <td>16</td>\n",
       "    </tr>\n",
       "  </tbody>\n",
       "</table>\n",
       "</div>"
      ],
      "text/plain": [
       "   Unnamed: 0    city            date   time  year  month  day  hour  minute  \\\n",
       "0           0  Qassim  1 January 2017  00:00  2017      1    1    24       0   \n",
       "1           1  Qassim  1 January 2017  01:00  2017      1    1     1       0   \n",
       "2           2  Qassim  1 January 2017  03:00  2017      1    1     3       0   \n",
       "3           3  Qassim  1 January 2017  04:00  2017      1    1     4       0   \n",
       "4           4  Qassim  1 January 2017  05:00  2017      1    1     5       0   \n",
       "\n",
       "  weather  temp  wind humidity  barometer  visibility  \n",
       "0  Clear     17    11      64%     1018.0          16  \n",
       "1  Clear     17     6      64%     1018.0          16  \n",
       "2  Clear     15    11      72%     1019.0          16  \n",
       "3  Clear     15    11      72%     1019.0          16  \n",
       "4  Clear     15     9      72%     1019.0          16  "
      ]
     },
     "execution_count": 20,
     "metadata": {},
     "output_type": "execute_result"
    }
   ],
   "source": [
    "# Display the top 5 rows\n",
    "df.head()"
   ]
  },
  {
   "cell_type": "code",
   "execution_count": 21,
   "id": "369ab121",
   "metadata": {},
   "outputs": [
    {
     "data": {
      "text/html": [
       "<div>\n",
       "<style scoped>\n",
       "    .dataframe tbody tr th:only-of-type {\n",
       "        vertical-align: middle;\n",
       "    }\n",
       "\n",
       "    .dataframe tbody tr th {\n",
       "        vertical-align: top;\n",
       "    }\n",
       "\n",
       "    .dataframe thead th {\n",
       "        text-align: right;\n",
       "    }\n",
       "</style>\n",
       "<table border=\"1\" class=\"dataframe\">\n",
       "  <thead>\n",
       "    <tr style=\"text-align: right;\">\n",
       "      <th></th>\n",
       "      <th>Unnamed: 0</th>\n",
       "      <th>year</th>\n",
       "      <th>month</th>\n",
       "      <th>day</th>\n",
       "      <th>hour</th>\n",
       "      <th>minute</th>\n",
       "      <th>temp</th>\n",
       "      <th>wind</th>\n",
       "      <th>barometer</th>\n",
       "      <th>visibility</th>\n",
       "    </tr>\n",
       "  </thead>\n",
       "  <tbody>\n",
       "    <tr>\n",
       "      <th>count</th>\n",
       "      <td>249023.000000</td>\n",
       "      <td>249023.000000</td>\n",
       "      <td>249023.000000</td>\n",
       "      <td>249023.000000</td>\n",
       "      <td>249023.000000</td>\n",
       "      <td>249023.000000</td>\n",
       "      <td>249023.000000</td>\n",
       "      <td>249023.000000</td>\n",
       "      <td>248951.000000</td>\n",
       "      <td>249023.000000</td>\n",
       "    </tr>\n",
       "    <tr>\n",
       "      <th>mean</th>\n",
       "      <td>121690.686174</td>\n",
       "      <td>2017.710007</td>\n",
       "      <td>6.050694</td>\n",
       "      <td>15.691081</td>\n",
       "      <td>12.536890</td>\n",
       "      <td>0.131108</td>\n",
       "      <td>24.722624</td>\n",
       "      <td>12.957104</td>\n",
       "      <td>1015.455355</td>\n",
       "      <td>11.053453</td>\n",
       "    </tr>\n",
       "    <tr>\n",
       "      <th>std</th>\n",
       "      <td>71831.546649</td>\n",
       "      <td>0.706113</td>\n",
       "      <td>3.521591</td>\n",
       "      <td>8.787958</td>\n",
       "      <td>6.910254</td>\n",
       "      <td>1.970710</td>\n",
       "      <td>8.880913</td>\n",
       "      <td>8.711619</td>\n",
       "      <td>6.970779</td>\n",
       "      <td>7.053005</td>\n",
       "    </tr>\n",
       "    <tr>\n",
       "      <th>min</th>\n",
       "      <td>0.000000</td>\n",
       "      <td>2017.000000</td>\n",
       "      <td>1.000000</td>\n",
       "      <td>1.000000</td>\n",
       "      <td>1.000000</td>\n",
       "      <td>0.000000</td>\n",
       "      <td>-4.000000</td>\n",
       "      <td>-1.000000</td>\n",
       "      <td>904.000000</td>\n",
       "      <td>-1.000000</td>\n",
       "    </tr>\n",
       "    <tr>\n",
       "      <th>25%</th>\n",
       "      <td>59402.500000</td>\n",
       "      <td>2017.000000</td>\n",
       "      <td>3.000000</td>\n",
       "      <td>8.000000</td>\n",
       "      <td>7.000000</td>\n",
       "      <td>0.000000</td>\n",
       "      <td>18.000000</td>\n",
       "      <td>7.000000</td>\n",
       "      <td>1011.000000</td>\n",
       "      <td>5.000000</td>\n",
       "    </tr>\n",
       "    <tr>\n",
       "      <th>50%</th>\n",
       "      <td>121658.000000</td>\n",
       "      <td>2018.000000</td>\n",
       "      <td>6.000000</td>\n",
       "      <td>16.000000</td>\n",
       "      <td>13.000000</td>\n",
       "      <td>0.000000</td>\n",
       "      <td>24.000000</td>\n",
       "      <td>11.000000</td>\n",
       "      <td>1016.000000</td>\n",
       "      <td>16.000000</td>\n",
       "    </tr>\n",
       "    <tr>\n",
       "      <th>75%</th>\n",
       "      <td>183913.500000</td>\n",
       "      <td>2018.000000</td>\n",
       "      <td>9.000000</td>\n",
       "      <td>23.000000</td>\n",
       "      <td>19.000000</td>\n",
       "      <td>0.000000</td>\n",
       "      <td>31.000000</td>\n",
       "      <td>19.000000</td>\n",
       "      <td>1021.000000</td>\n",
       "      <td>16.000000</td>\n",
       "    </tr>\n",
       "    <tr>\n",
       "      <th>max</th>\n",
       "      <td>246169.000000</td>\n",
       "      <td>2019.000000</td>\n",
       "      <td>12.000000</td>\n",
       "      <td>31.000000</td>\n",
       "      <td>24.000000</td>\n",
       "      <td>59.000000</td>\n",
       "      <td>50.000000</td>\n",
       "      <td>163.000000</td>\n",
       "      <td>1101.000000</td>\n",
       "      <td>161.000000</td>\n",
       "    </tr>\n",
       "  </tbody>\n",
       "</table>\n",
       "</div>"
      ],
      "text/plain": [
       "          Unnamed: 0           year          month            day  \\\n",
       "count  249023.000000  249023.000000  249023.000000  249023.000000   \n",
       "mean   121690.686174    2017.710007       6.050694      15.691081   \n",
       "std     71831.546649       0.706113       3.521591       8.787958   \n",
       "min         0.000000    2017.000000       1.000000       1.000000   \n",
       "25%     59402.500000    2017.000000       3.000000       8.000000   \n",
       "50%    121658.000000    2018.000000       6.000000      16.000000   \n",
       "75%    183913.500000    2018.000000       9.000000      23.000000   \n",
       "max    246169.000000    2019.000000      12.000000      31.000000   \n",
       "\n",
       "                hour         minute           temp           wind  \\\n",
       "count  249023.000000  249023.000000  249023.000000  249023.000000   \n",
       "mean       12.536890       0.131108      24.722624      12.957104   \n",
       "std         6.910254       1.970710       8.880913       8.711619   \n",
       "min         1.000000       0.000000      -4.000000      -1.000000   \n",
       "25%         7.000000       0.000000      18.000000       7.000000   \n",
       "50%        13.000000       0.000000      24.000000      11.000000   \n",
       "75%        19.000000       0.000000      31.000000      19.000000   \n",
       "max        24.000000      59.000000      50.000000     163.000000   \n",
       "\n",
       "           barometer     visibility  \n",
       "count  248951.000000  249023.000000  \n",
       "mean     1015.455355      11.053453  \n",
       "std         6.970779       7.053005  \n",
       "min       904.000000      -1.000000  \n",
       "25%      1011.000000       5.000000  \n",
       "50%      1016.000000      16.000000  \n",
       "75%      1021.000000      16.000000  \n",
       "max      1101.000000     161.000000  "
      ]
     },
     "execution_count": 21,
     "metadata": {},
     "output_type": "execute_result"
    }
   ],
   "source": [
    "df.describe()"
   ]
  },
  {
   "cell_type": "code",
   "execution_count": 22,
   "id": "8b136a67",
   "metadata": {},
   "outputs": [
    {
     "data": {
      "text/html": [
       "<div>\n",
       "<style scoped>\n",
       "    .dataframe tbody tr th:only-of-type {\n",
       "        vertical-align: middle;\n",
       "    }\n",
       "\n",
       "    .dataframe tbody tr th {\n",
       "        vertical-align: top;\n",
       "    }\n",
       "\n",
       "    .dataframe thead th {\n",
       "        text-align: right;\n",
       "    }\n",
       "</style>\n",
       "<table border=\"1\" class=\"dataframe\">\n",
       "  <thead>\n",
       "    <tr style=\"text-align: right;\">\n",
       "      <th></th>\n",
       "      <th>city</th>\n",
       "      <th>date</th>\n",
       "      <th>time</th>\n",
       "      <th>weather</th>\n",
       "      <th>humidity</th>\n",
       "    </tr>\n",
       "  </thead>\n",
       "  <tbody>\n",
       "    <tr>\n",
       "      <th>count</th>\n",
       "      <td>249023</td>\n",
       "      <td>249023</td>\n",
       "      <td>249023</td>\n",
       "      <td>249023</td>\n",
       "      <td>249006</td>\n",
       "    </tr>\n",
       "    <tr>\n",
       "      <th>unique</th>\n",
       "      <td>13</td>\n",
       "      <td>850</td>\n",
       "      <td>710</td>\n",
       "      <td>81</td>\n",
       "      <td>92</td>\n",
       "    </tr>\n",
       "    <tr>\n",
       "      <th>top</th>\n",
       "      <td>Jawf</td>\n",
       "      <td>24 November 2018</td>\n",
       "      <td>07:00</td>\n",
       "      <td>Clear</td>\n",
       "      <td>13%</td>\n",
       "    </tr>\n",
       "    <tr>\n",
       "      <th>freq</th>\n",
       "      <td>20352</td>\n",
       "      <td>321</td>\n",
       "      <td>10415</td>\n",
       "      <td>98827</td>\n",
       "      <td>6903</td>\n",
       "    </tr>\n",
       "  </tbody>\n",
       "</table>\n",
       "</div>"
      ],
      "text/plain": [
       "          city              date    time weather humidity\n",
       "count   249023            249023  249023  249023   249006\n",
       "unique      13               850     710      81       92\n",
       "top       Jawf  24 November 2018   07:00  Clear       13%\n",
       "freq     20352               321   10415   98827     6903"
      ]
     },
     "execution_count": 22,
     "metadata": {},
     "output_type": "execute_result"
    }
   ],
   "source": [
    "df.describe(include=[object])"
   ]
  },
  {
   "cell_type": "code",
   "execution_count": 23,
   "id": "a420ac18",
   "metadata": {},
   "outputs": [
    {
     "name": "stdout",
     "output_type": "stream",
     "text": [
      "Number of duplicate rows:  0\n"
     ]
    }
   ],
   "source": [
    "# Checking for duplicated rows\n",
    "print(\"Number of duplicate rows: \",sum(df.duplicated()))"
   ]
  },
  {
   "cell_type": "code",
   "execution_count": 24,
   "id": "36e513b3",
   "metadata": {},
   "outputs": [],
   "source": [
    "# Drop unused columns\n",
    "df = df.drop(['Unnamed: 0'], axis = 1)"
   ]
  },
  {
   "cell_type": "code",
   "execution_count": 25,
   "id": "12717588",
   "metadata": {},
   "outputs": [
    {
     "data": {
      "text/plain": [
       "Jawf                20352\n",
       "Mecca               20268\n",
       "Tabuk               20240\n",
       "Northern boarder    20235\n",
       "Hail                20121\n",
       "Madina              19965\n",
       "Baha                19959\n",
       "Najran              19847\n",
       "Jazan               19829\n",
       "Qassim              19793\n",
       "EP                  18505\n",
       "Riyadh              16421\n",
       "Assir               13488\n",
       "Name: city, dtype: int64"
      ]
     },
     "execution_count": 25,
     "metadata": {},
     "output_type": "execute_result"
    }
   ],
   "source": [
    "df['city'].value_counts()"
   ]
  },
  {
   "cell_type": "code",
   "execution_count": 26,
   "id": "87d18c3e",
   "metadata": {},
   "outputs": [
    {
     "data": {
      "text/plain": [
       "city           0\n",
       "date           0\n",
       "time           0\n",
       "year           0\n",
       "month          0\n",
       "day            0\n",
       "hour           0\n",
       "minute         0\n",
       "weather        0\n",
       "temp           0\n",
       "wind           0\n",
       "humidity      17\n",
       "barometer     72\n",
       "visibility     0\n",
       "dtype: int64"
      ]
     },
     "execution_count": 26,
     "metadata": {},
     "output_type": "execute_result"
    }
   ],
   "source": [
    "df.isnull().sum()"
   ]
  },
  {
   "cell_type": "code",
   "execution_count": 27,
   "id": "e0d08f1a",
   "metadata": {},
   "outputs": [],
   "source": [
    "df = df.fillna(method='ffill').fillna(method='bfill')"
   ]
  },
  {
   "cell_type": "code",
   "execution_count": 28,
   "id": "86f0f8c0",
   "metadata": {},
   "outputs": [
    {
     "data": {
      "text/plain": [
       "city          0\n",
       "date          0\n",
       "time          0\n",
       "year          0\n",
       "month         0\n",
       "day           0\n",
       "hour          0\n",
       "minute        0\n",
       "weather       0\n",
       "temp          0\n",
       "wind          0\n",
       "humidity      0\n",
       "barometer     0\n",
       "visibility    0\n",
       "dtype: int64"
      ]
     },
     "execution_count": 28,
     "metadata": {},
     "output_type": "execute_result"
    }
   ],
   "source": [
    "df.isnull().sum()"
   ]
  },
  {
   "cell_type": "code",
   "execution_count": 29,
   "id": "01ad9f02",
   "metadata": {},
   "outputs": [],
   "source": [
    "# Remove the (%) form the 'humidity' column, then Divide values by 100\n",
    "# Convert the 'humidity' column to int\n",
    "df['humidity'] = df['humidity'].str.replace(r'\\D', '')\n",
    "df['humidity'] = df['humidity'].astype(int)\n",
    "df['humidity'] = df['humidity']/100"
   ]
  },
  {
   "cell_type": "code",
   "execution_count": 30,
   "id": "efb67aa1",
   "metadata": {},
   "outputs": [],
   "source": [
    "from sklearn.ensemble import RandomForestRegressor\n",
    "\n",
    "from sklearn.metrics import mean_absolute_error \n",
    "from sklearn.model_selection import train_test_split\n",
    "\n",
    "from sklearn.preprocessing import StandardScaler, OneHotEncoder, OrdinalEncoder"
   ]
  },
  {
   "cell_type": "code",
   "execution_count": 31,
   "id": "ad013542",
   "metadata": {},
   "outputs": [],
   "source": [
    "train, test = train_test_split(df, test_size = 0.2, random_state=42)"
   ]
  },
  {
   "cell_type": "code",
   "execution_count": 32,
   "id": "ec6ed2c8",
   "metadata": {},
   "outputs": [],
   "source": [
    "# OrdinalEncoder is for encode categorical features as an integer array \n",
    "# Create our Ordinal Encoder object\n",
    "ordinal = OrdinalEncoder()\n",
    "\n",
    "# The categorical features\n",
    "columns_to_enc = ['year', 'month', 'day', 'hour']\n",
    "\n",
    "# Ordinal encode the columns\n",
    "ordinal_train = ordinal.fit_transform(train[columns_to_enc])\n",
    "ordinal_test = ordinal.transform(test[columns_to_enc])\n",
    "\n",
    "# Convert ordinal_train and ordinal_test to a dataframes\n",
    "train_ordinal = pd.DataFrame(ordinal_train, columns = columns_to_enc)\n",
    "test_ordinal = pd.DataFrame(ordinal_test, columns = columns_to_enc)"
   ]
  },
  {
   "cell_type": "code",
   "execution_count": 33,
   "id": "a7d67cb4",
   "metadata": {},
   "outputs": [],
   "source": [
    "# StandardScaler is for standardize features by removing the mean and scaling to unit variance\n",
    "# Create our Standard Scaler object\n",
    "scaler = StandardScaler()\n",
    "\n",
    "# Features that need to Scale\n",
    "columns_to_scale = ['temp', 'wind', 'humidity', 'barometer', 'visibility']\n",
    "\n",
    "# Standard Scaling the columns\n",
    "scaled_train = scaler.fit_transform(train[columns_to_scale])\n",
    "scaled_test = scaler.transform(test[columns_to_scale])\n",
    "\n",
    "# Convert scaled_train and scaled_test to a dataframes\n",
    "train_scaled = pd.DataFrame(scaled_train, columns = columns_to_scale)\n",
    "test_scaled = pd.DataFrame(scaled_test, columns = columns_to_scale)"
   ]
  },
  {
   "cell_type": "code",
   "execution_count": 34,
   "id": "a1867f07",
   "metadata": {},
   "outputs": [],
   "source": [
    "# OneHotEncoder is for encode categorical features as a one-hot numeric array\n",
    "# Create our One Hot Encoder object\n",
    "one_hot = OneHotEncoder()\n",
    "\n",
    "# Features that need to One Hot encode\n",
    "columns_to_onehot = ['city']\n",
    "\n",
    "# One Hot encode the columns\n",
    "one_hot_train = one_hot.fit_transform(train[columns_to_onehot]).toarray()\n",
    "one_hot_test = one_hot.transform(test[columns_to_onehot]).toarray()\n",
    "\n",
    "# The new column names after One Hot encode\n",
    "column_names = ['city_Baha', 'city_Hail', 'city_Jawf', 'city_Jazan', 'city_Madina', 'city_Mecca', 'city_Najran',\n",
    "                'city_Northern boarder', 'city_Qassim', 'city_Tabuk', 'city_Assir', 'city_EP', 'city_Riyadh']\n",
    "\n",
    "# Convert one_hot_train and one_hot_test to a dataframes\n",
    "train_one_hot = pd.DataFrame(one_hot_train, columns = column_names)\n",
    "test_one_hot = pd.DataFrame(one_hot_test, columns = column_names)"
   ]
  },
  {
   "cell_type": "code",
   "execution_count": 35,
   "id": "70c7f917",
   "metadata": {},
   "outputs": [],
   "source": [
    "# Add a new column to all these dataset which is there index\n",
    "# To be able to merge these dataframes\n",
    "train_ordinal['index'] = train_ordinal.index\n",
    "test_ordinal['index'] = test_ordinal.index\n",
    "train_scaled['index'] = train_scaled.index\n",
    "test_scaled['index'] = test_scaled.index\n",
    "train_one_hot['index'] = train_one_hot.index\n",
    "test_one_hot['index'] = test_one_hot.index"
   ]
  },
  {
   "cell_type": "code",
   "execution_count": 36,
   "id": "34e7e40e",
   "metadata": {},
   "outputs": [],
   "source": [
    "trains = [train_ordinal, train_scaled, train_one_hot] # all train dataframes that we have created\n",
    "tests  = [test_ordinal, test_scaled, test_one_hot]    # all test dataframes that we have created\n",
    "\n",
    "# merage all the train and together by 'index' column, then merage the test dataframes\n",
    "train = reduce(lambda left,right: pd.merge(left,right,on='index'), trains) \n",
    "test = reduce(lambda left,right: pd.merge(left,right,on='index'), tests)"
   ]
  },
  {
   "cell_type": "code",
   "execution_count": 37,
   "id": "d57147d3",
   "metadata": {},
   "outputs": [],
   "source": [
    "# Split training and testing into features and target to predict 'temp' column\n",
    "target = \"temp\" # The column that we will predict\n",
    "\n",
    "X_train_temp = train.drop(target, axis=1) # features\n",
    "y_train_temp = train[target] # target\n",
    "\n",
    "X_test_temp = test.drop(target, axis=1) # features\n",
    "y_test_temp = test[target] # target"
   ]
  },
  {
   "cell_type": "code",
   "execution_count": 38,
   "id": "027e03ce",
   "metadata": {},
   "outputs": [
    {
     "name": "stdout",
     "output_type": "stream",
     "text": [
      "Training MAE 0.036067928534624066\n",
      "Testing MAE 0.09800999869164996\n"
     ]
    }
   ],
   "source": [
    "# Define the model\n",
    "reg_forest = RandomForestRegressor(random_state = 42, criterion = 'mse')\n",
    "reg_forest.fit(X_train_temp, y_train_temp) # fit the model\n",
    "\n",
    "preds_forest_train = reg_forest.predict(X_train_temp) # predict the temperature in train dataset\n",
    "preds_forest_test = reg_forest.predict(X_test_temp)   # predict the temperature in test dataset\n",
    "\n",
    "# evaluate the model\n",
    "print (\"Training MAE\", mean_absolute_error(y_train_temp, preds_forest_train))\n",
    "print (\"Testing MAE\", mean_absolute_error(y_test_temp, preds_forest_test))"
   ]
  },
  {
   "cell_type": "code",
   "execution_count": 39,
   "id": "99892437",
   "metadata": {},
   "outputs": [
    {
     "name": "stdout",
     "output_type": "stream",
     "text": [
      "Training MSE 0.002697372640701961\n",
      "Testing MSE 0.019434524608670775\n",
      "Training R2 0.9973026273592981\n",
      "Testing R2 0.9804666588436078\n"
     ]
    }
   ],
   "source": [
    "from sklearn import metrics\n",
    "\n",
    "print (\"Training MSE\", metrics.mean_squared_error(y_train_temp, preds_forest_train))\n",
    "print (\"Testing MSE\", metrics.mean_squared_error(y_test_temp, preds_forest_test))\n",
    "\n",
    "print (\"Training R2\", metrics.r2_score(y_train_temp, preds_forest_train))\n",
    "print (\"Testing R2\", metrics.r2_score(y_test_temp, preds_forest_test))"
   ]
  },
  {
   "cell_type": "code",
   "execution_count": 40,
   "id": "f94e70f0",
   "metadata": {},
   "outputs": [],
   "source": [
    "# Split training and testing into features and target to predict 'wind' column\n",
    "target = \"wind\" # The column that we will predict\n",
    "\n",
    "X_train_wind = train.drop(target, axis=1) # features\n",
    "y_train_wind = train[target] # target\n",
    "\n",
    "X_test_wind = test.drop(target, axis=1) # features\n",
    "y_test_wind = test[target] # target"
   ]
  },
  {
   "cell_type": "code",
   "execution_count": 41,
   "id": "eefb1ff4",
   "metadata": {},
   "outputs": [
    {
     "name": "stdout",
     "output_type": "stream",
     "text": [
      "Training MAE 0.17012617628279697\n",
      "Testing MAE 0.46576345560864835\n"
     ]
    }
   ],
   "source": [
    "# define the model\n",
    "reg_forest = RandomForestRegressor(random_state = 42, criterion = 'mse')\n",
    "reg_forest.fit(X_train_wind, y_train_wind) # fit the model\n",
    "\n",
    "preds_forest_train = reg_forest.predict(X_train_wind) # predict the wind in train dataset\n",
    "preds_forest_test = reg_forest.predict(X_test_wind)   # predict the wind in test dataset\n",
    "\n",
    "# evaluate the model\n",
    "print (\"Training MAE\", mean_absolute_error(y_train_wind, preds_forest_train))\n",
    "print (\"Testing MAE\", mean_absolute_error(y_test_wind, preds_forest_test))"
   ]
  },
  {
   "cell_type": "code",
   "execution_count": 27,
   "id": "fdb04152",
   "metadata": {},
   "outputs": [
    {
     "name": "stdout",
     "output_type": "stream",
     "text": [
      "Training MAE 0.036067928534624066\n",
      "Testing MAE 0.09800999869164996\n"
     ]
    }
   ],
   "source": [
    "# Define the model\n",
    "reg_forest = RandomForestRegressor(random_state = 42, criterion = 'mse')\n",
    "reg_forest.fit(X_train_wind, y_train_wind) # fit the model\n",
    "\n",
    "preds_forest_train = reg_forest.predict(X_train_wind) # predict the temperature in train dataset\n",
    "preds_forest_test = reg_forest.predict(X_test_wind)   # predict the temperature in test dataset\n",
    "\n",
    "# evaluate the model\n",
    "print (\"Training MAE\", mean_absolute_error(y_train_wind, preds_forest_train))\n",
    "print (\"Testing MAE\", mean_absolute_error(y_test_wind, preds_forest_test))"
   ]
  },
  {
   "cell_type": "code",
   "execution_count": 42,
   "id": "a4ead40c",
   "metadata": {},
   "outputs": [
    {
     "data": {
      "image/png": "[encoded data removed]",
      "text/plain": [
       "<Figure size 1080x432 with 2 Axes>"
      ]
     },
     "metadata": {
      "needs_background": "light"
     },
     "output_type": "display_data"
    }
   ],
   "source": [
    "# Finding the relations between the variables\n",
    "plt.figure(figsize=(15,6))\n",
    "sns.heatmap(df.corr(),cmap=\"magma\",annot=True, mask=np.triu(df.corr()));"
   ]
  },
  {
   "cell_type": "code",
   "execution_count": null,
   "id": "6d42450a",
   "metadata": {},
   "outputs": [],
   "source": []
  }
 ],
 "metadata": {
  "kernelspec": {
   "display_name": "Python 3",
   "language": "python",
   "name": "python3"
  },
  "language_info": {
   "codemirror_mode": {
    "name": "ipython",
    "version": 3
   },
   "file_extension": ".py",
   "mimetype": "text/x-python",
   "name": "python",
   "nbconvert_exporter": "python",
   "pygments_lexer": "ipython3",
   "version": "3.8.8"
  }
 },
 "nbformat": 4,
 "nbformat_minor": 5
}
