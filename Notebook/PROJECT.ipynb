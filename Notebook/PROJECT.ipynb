{
 "cells": [
  {
   "cell_type": "markdown",
   "id": "dc0d4134",
   "metadata": {},
   "source": [
    "# Import Libraries"
   ]
  },
  {
   "cell_type": "code",
   "execution_count": 1,
   "id": "3195b0fb",
   "metadata": {},
   "outputs": [],
   "source": [
    "# Import required libraries \n",
    "import pandas as pd\n",
    "import numpy as np\n",
    "import matplotlib.pyplot as plt\n",
    "import seaborn as sns\n",
    "%matplotlib inline\n",
    "\n",
    "# To ignore warnings\n",
    "import warnings\n",
    "warnings.filterwarnings(\"ignore\")"
   ]
  },
  {
   "cell_type": "code",
   "execution_count": 2,
   "id": "cb073831",
   "metadata": {
    "scrolled": true
   },
   "outputs": [
    {
     "data": {
      "text/plain": [
       "(249023, 15)"
      ]
     },
     "execution_count": 2,
     "metadata": {},
     "output_type": "execute_result"
    }
   ],
   "source": [
    "# Reading the csv file and nameing the DataFrame.\n",
    "df = pd.read_csv(r'C:\\Users\\Mohannad\\Documents\\DS_course_project\\data\\weather-sa-2017-2019-clean.csv')\n",
    "\n",
    "df.shape"
   ]
  },
  {
   "cell_type": "code",
   "execution_count": 3,
   "id": "7906b536",
   "metadata": {},
   "outputs": [
    {
     "data": {
      "text/html": [
       "<div>\n",
       "<style scoped>\n",
       "    .dataframe tbody tr th:only-of-type {\n",
       "        vertical-align: middle;\n",
       "    }\n",
       "\n",
       "    .dataframe tbody tr th {\n",
       "        vertical-align: top;\n",
       "    }\n",
       "\n",
       "    .dataframe thead th {\n",
       "        text-align: right;\n",
       "    }\n",
       "</style>\n",
       "<table border=\"1\" class=\"dataframe\">\n",
       "  <thead>\n",
       "    <tr style=\"text-align: right;\">\n",
       "      <th></th>\n",
       "      <th>Unnamed: 0</th>\n",
       "      <th>city</th>\n",
       "      <th>date</th>\n",
       "      <th>time</th>\n",
       "      <th>year</th>\n",
       "      <th>month</th>\n",
       "      <th>day</th>\n",
       "      <th>hour</th>\n",
       "      <th>minute</th>\n",
       "      <th>weather</th>\n",
       "      <th>temp</th>\n",
       "      <th>wind</th>\n",
       "      <th>humidity</th>\n",
       "      <th>barometer</th>\n",
       "      <th>visibility</th>\n",
       "    </tr>\n",
       "  </thead>\n",
       "  <tbody>\n",
       "    <tr>\n",
       "      <th>0</th>\n",
       "      <td>0</td>\n",
       "      <td>Qassim</td>\n",
       "      <td>1 January 2017</td>\n",
       "      <td>00:00</td>\n",
       "      <td>2017</td>\n",
       "      <td>1</td>\n",
       "      <td>1</td>\n",
       "      <td>24</td>\n",
       "      <td>0</td>\n",
       "      <td>Clear</td>\n",
       "      <td>17</td>\n",
       "      <td>11</td>\n",
       "      <td>64%</td>\n",
       "      <td>1018.0</td>\n",
       "      <td>16</td>\n",
       "    </tr>\n",
       "    <tr>\n",
       "      <th>1</th>\n",
       "      <td>1</td>\n",
       "      <td>Qassim</td>\n",
       "      <td>1 January 2017</td>\n",
       "      <td>01:00</td>\n",
       "      <td>2017</td>\n",
       "      <td>1</td>\n",
       "      <td>1</td>\n",
       "      <td>1</td>\n",
       "      <td>0</td>\n",
       "      <td>Clear</td>\n",
       "      <td>17</td>\n",
       "      <td>6</td>\n",
       "      <td>64%</td>\n",
       "      <td>1018.0</td>\n",
       "      <td>16</td>\n",
       "    </tr>\n",
       "    <tr>\n",
       "      <th>2</th>\n",
       "      <td>2</td>\n",
       "      <td>Qassim</td>\n",
       "      <td>1 January 2017</td>\n",
       "      <td>03:00</td>\n",
       "      <td>2017</td>\n",
       "      <td>1</td>\n",
       "      <td>1</td>\n",
       "      <td>3</td>\n",
       "      <td>0</td>\n",
       "      <td>Clear</td>\n",
       "      <td>15</td>\n",
       "      <td>11</td>\n",
       "      <td>72%</td>\n",
       "      <td>1019.0</td>\n",
       "      <td>16</td>\n",
       "    </tr>\n",
       "    <tr>\n",
       "      <th>3</th>\n",
       "      <td>3</td>\n",
       "      <td>Qassim</td>\n",
       "      <td>1 January 2017</td>\n",
       "      <td>04:00</td>\n",
       "      <td>2017</td>\n",
       "      <td>1</td>\n",
       "      <td>1</td>\n",
       "      <td>4</td>\n",
       "      <td>0</td>\n",
       "      <td>Clear</td>\n",
       "      <td>15</td>\n",
       "      <td>11</td>\n",
       "      <td>72%</td>\n",
       "      <td>1019.0</td>\n",
       "      <td>16</td>\n",
       "    </tr>\n",
       "    <tr>\n",
       "      <th>4</th>\n",
       "      <td>4</td>\n",
       "      <td>Qassim</td>\n",
       "      <td>1 January 2017</td>\n",
       "      <td>05:00</td>\n",
       "      <td>2017</td>\n",
       "      <td>1</td>\n",
       "      <td>1</td>\n",
       "      <td>5</td>\n",
       "      <td>0</td>\n",
       "      <td>Clear</td>\n",
       "      <td>15</td>\n",
       "      <td>9</td>\n",
       "      <td>72%</td>\n",
       "      <td>1019.0</td>\n",
       "      <td>16</td>\n",
       "    </tr>\n",
       "    <tr>\n",
       "      <th>...</th>\n",
       "      <td>...</td>\n",
       "      <td>...</td>\n",
       "      <td>...</td>\n",
       "      <td>...</td>\n",
       "      <td>...</td>\n",
       "      <td>...</td>\n",
       "      <td>...</td>\n",
       "      <td>...</td>\n",
       "      <td>...</td>\n",
       "      <td>...</td>\n",
       "      <td>...</td>\n",
       "      <td>...</td>\n",
       "      <td>...</td>\n",
       "      <td>...</td>\n",
       "      <td>...</td>\n",
       "    </tr>\n",
       "    <tr>\n",
       "      <th>249018</th>\n",
       "      <td>2848</td>\n",
       "      <td>Jawf</td>\n",
       "      <td>30 April 2019</td>\n",
       "      <td>19:00</td>\n",
       "      <td>2019</td>\n",
       "      <td>4</td>\n",
       "      <td>30</td>\n",
       "      <td>19</td>\n",
       "      <td>0</td>\n",
       "      <td>Passing clouds</td>\n",
       "      <td>32</td>\n",
       "      <td>19</td>\n",
       "      <td>14%</td>\n",
       "      <td>1014.0</td>\n",
       "      <td>-1</td>\n",
       "    </tr>\n",
       "    <tr>\n",
       "      <th>249019</th>\n",
       "      <td>2849</td>\n",
       "      <td>Jawf</td>\n",
       "      <td>30 April 2019</td>\n",
       "      <td>20:00</td>\n",
       "      <td>2019</td>\n",
       "      <td>4</td>\n",
       "      <td>30</td>\n",
       "      <td>20</td>\n",
       "      <td>0</td>\n",
       "      <td>Passing clouds</td>\n",
       "      <td>29</td>\n",
       "      <td>9</td>\n",
       "      <td>22%</td>\n",
       "      <td>1015.0</td>\n",
       "      <td>-1</td>\n",
       "    </tr>\n",
       "    <tr>\n",
       "      <th>249020</th>\n",
       "      <td>2850</td>\n",
       "      <td>Jawf</td>\n",
       "      <td>30 April 2019</td>\n",
       "      <td>21:00</td>\n",
       "      <td>2019</td>\n",
       "      <td>4</td>\n",
       "      <td>30</td>\n",
       "      <td>21</td>\n",
       "      <td>0</td>\n",
       "      <td>Passing clouds</td>\n",
       "      <td>27</td>\n",
       "      <td>7</td>\n",
       "      <td>24%</td>\n",
       "      <td>1016.0</td>\n",
       "      <td>-1</td>\n",
       "    </tr>\n",
       "    <tr>\n",
       "      <th>249021</th>\n",
       "      <td>2851</td>\n",
       "      <td>Jawf</td>\n",
       "      <td>30 April 2019</td>\n",
       "      <td>22:00</td>\n",
       "      <td>2019</td>\n",
       "      <td>4</td>\n",
       "      <td>30</td>\n",
       "      <td>22</td>\n",
       "      <td>0</td>\n",
       "      <td>Clear</td>\n",
       "      <td>26</td>\n",
       "      <td>0</td>\n",
       "      <td>26%</td>\n",
       "      <td>1017.0</td>\n",
       "      <td>16</td>\n",
       "    </tr>\n",
       "    <tr>\n",
       "      <th>249022</th>\n",
       "      <td>2852</td>\n",
       "      <td>Jawf</td>\n",
       "      <td>30 April 2019</td>\n",
       "      <td>23:00</td>\n",
       "      <td>2019</td>\n",
       "      <td>4</td>\n",
       "      <td>30</td>\n",
       "      <td>23</td>\n",
       "      <td>0</td>\n",
       "      <td>Clear</td>\n",
       "      <td>24</td>\n",
       "      <td>7</td>\n",
       "      <td>29%</td>\n",
       "      <td>1017.0</td>\n",
       "      <td>16</td>\n",
       "    </tr>\n",
       "  </tbody>\n",
       "</table>\n",
       "<p>249023 rows × 15 columns</p>\n",
       "</div>"
      ],
      "text/plain": [
       "        Unnamed: 0    city            date   time  year  month  day  hour  \\\n",
       "0                0  Qassim  1 January 2017  00:00  2017      1    1    24   \n",
       "1                1  Qassim  1 January 2017  01:00  2017      1    1     1   \n",
       "2                2  Qassim  1 January 2017  03:00  2017      1    1     3   \n",
       "3                3  Qassim  1 January 2017  04:00  2017      1    1     4   \n",
       "4                4  Qassim  1 January 2017  05:00  2017      1    1     5   \n",
       "...            ...     ...             ...    ...   ...    ...  ...   ...   \n",
       "249018        2848    Jawf   30 April 2019  19:00  2019      4   30    19   \n",
       "249019        2849    Jawf   30 April 2019  20:00  2019      4   30    20   \n",
       "249020        2850    Jawf   30 April 2019  21:00  2019      4   30    21   \n",
       "249021        2851    Jawf   30 April 2019  22:00  2019      4   30    22   \n",
       "249022        2852    Jawf   30 April 2019  23:00  2019      4   30    23   \n",
       "\n",
       "        minute          weather  temp  wind humidity  barometer  visibility  \n",
       "0            0           Clear     17    11      64%     1018.0          16  \n",
       "1            0           Clear     17     6      64%     1018.0          16  \n",
       "2            0           Clear     15    11      72%     1019.0          16  \n",
       "3            0           Clear     15    11      72%     1019.0          16  \n",
       "4            0           Clear     15     9      72%     1019.0          16  \n",
       "...        ...              ...   ...   ...      ...        ...         ...  \n",
       "249018       0  Passing clouds     32    19      14%     1014.0          -1  \n",
       "249019       0  Passing clouds     29     9      22%     1015.0          -1  \n",
       "249020       0  Passing clouds     27     7      24%     1016.0          -1  \n",
       "249021       0           Clear     26     0      26%     1017.0          16  \n",
       "249022       0           Clear     24     7      29%     1017.0          16  \n",
       "\n",
       "[249023 rows x 15 columns]"
      ]
     },
     "execution_count": 3,
     "metadata": {},
     "output_type": "execute_result"
    }
   ],
   "source": [
    "#view the datset\n",
    "df"
   ]
  },
  {
   "cell_type": "code",
   "execution_count": 4,
   "id": "5ebd6dc9",
   "metadata": {
    "scrolled": true
   },
   "outputs": [
    {
     "name": "stdout",
     "output_type": "stream",
     "text": [
      "<class 'pandas.core.frame.DataFrame'>\n",
      "RangeIndex: 249023 entries, 0 to 249022\n",
      "Data columns (total 15 columns):\n",
      " #   Column      Non-Null Count   Dtype  \n",
      "---  ------      --------------   -----  \n",
      " 0   Unnamed: 0  249023 non-null  int64  \n",
      " 1   city        249023 non-null  object \n",
      " 2   date        249023 non-null  object \n",
      " 3   time        249023 non-null  object \n",
      " 4   year        249023 non-null  int64  \n",
      " 5   month       249023 non-null  int64  \n",
      " 6   day         249023 non-null  int64  \n",
      " 7   hour        249023 non-null  int64  \n",
      " 8   minute      249023 non-null  int64  \n",
      " 9   weather     249023 non-null  object \n",
      " 10  temp        249023 non-null  int64  \n",
      " 11  wind        249023 non-null  int64  \n",
      " 12  humidity    249006 non-null  object \n",
      " 13  barometer   248951 non-null  float64\n",
      " 14  visibility  249023 non-null  int64  \n",
      "dtypes: float64(1), int64(9), object(5)\n",
      "memory usage: 28.5+ MB\n"
     ]
    }
   ],
   "source": [
    "# Take an overview look at the columns and thier Datatype.\n",
    "df.info()"
   ]
  },
  {
   "cell_type": "code",
   "execution_count": 5,
   "id": "3457c878",
   "metadata": {},
   "outputs": [
    {
     "name": "stdout",
     "output_type": "stream",
     "text": [
      "<class 'pandas.core.frame.DataFrame'>\n",
      "RangeIndex: 249023 entries, 0 to 249022\n",
      "Data columns (total 15 columns):\n",
      " #   Column      Non-Null Count   Dtype  \n",
      "---  ------      --------------   -----  \n",
      " 0   Unnamed: 0  249023 non-null  int64  \n",
      " 1   city        249023 non-null  object \n",
      " 2   date        249023 non-null  object \n",
      " 3   time        249023 non-null  object \n",
      " 4   year        249023 non-null  int64  \n",
      " 5   month       249023 non-null  int64  \n",
      " 6   day         249023 non-null  int64  \n",
      " 7   hour        249023 non-null  int64  \n",
      " 8   minute      249023 non-null  int64  \n",
      " 9   weather     249023 non-null  object \n",
      " 10  temp        249023 non-null  int64  \n",
      " 11  wind        249023 non-null  int64  \n",
      " 12  humidity    249006 non-null  object \n",
      " 13  barometer   248951 non-null  float64\n",
      " 14  visibility  249023 non-null  int64  \n",
      "dtypes: float64(1), int64(9), object(5)\n",
      "memory usage: 28.5+ MB\n"
     ]
    }
   ],
   "source": [
    "df['humidity'] = df['humidity'].str.replace('%',' ')\n",
    "df.head()\n",
    "df.info()"
   ]
  },
  {
   "cell_type": "code",
   "execution_count": null,
   "id": "6adc73de",
   "metadata": {},
   "outputs": [],
   "source": [
    "df['humidity'] = df['humidity'].astype('float')\n",
    "df"
   ]
  },
  {
   "cell_type": "code",
   "execution_count": null,
   "id": "3e7b02f1",
   "metadata": {
    "scrolled": true
   },
   "outputs": [],
   "source": [
    "# Summary Statistics\n",
    "df.describe()"
   ]
  },
  {
   "cell_type": "code",
   "execution_count": null,
   "id": "fb89cb6b",
   "metadata": {},
   "outputs": [],
   "source": [
    "# Categorical Summary Statistics\n",
    "df.describe(exclude=\"number\")"
   ]
  },
  {
   "cell_type": "code",
   "execution_count": null,
   "id": "cada4af5",
   "metadata": {},
   "outputs": [],
   "source": [
    "# summary statistics for each city\n",
    "df.groupby(['city', 'year'])['temp'].describe()"
   ]
  },
  {
   "cell_type": "code",
   "execution_count": null,
   "id": "69bbd9c8",
   "metadata": {},
   "outputs": [],
   "source": [
    "# Check for missing values\n",
    "\n",
    "df.isnull().sum()"
   ]
  },
  {
   "cell_type": "code",
   "execution_count": null,
   "id": "d72f33c2",
   "metadata": {
    "scrolled": false
   },
   "outputs": [],
   "source": [
    "# Drop Null Values\n",
    "df = df.dropna( how='any', subset=['humidity', 'barometer'])\n",
    "df.isnull().sum()"
   ]
  },
  {
   "cell_type": "code",
   "execution_count": null,
   "id": "0ec50eea",
   "metadata": {},
   "outputs": [],
   "source": [
    "df.drop('Unnamed: 0', axis=1, inplace=True)\n",
    "df.head()"
   ]
  },
  {
   "cell_type": "code",
   "execution_count": null,
   "id": "00b1bc33",
   "metadata": {},
   "outputs": [],
   "source": [
    "# Creating box plot to check for extreme value\n",
    "\n",
    "df[['wind', 'visibility', 'temp', 'humidity']].plot(kind='box')"
   ]
  },
  {
   "cell_type": "code",
   "execution_count": null,
   "id": "51abde38",
   "metadata": {},
   "outputs": [],
   "source": [
    "#  Drop exterme value\n",
    "\n",
    "# df = df[df[['wind', 'visibility']] < 125 ]\n",
    "\n",
    "# Not sure if we can do this step?"
   ]
  },
  {
   "cell_type": "code",
   "execution_count": null,
   "id": "d9c3b488",
   "metadata": {},
   "outputs": [],
   "source": [
    "# using groupby function with aggregation to get mean, min and max values for temprature per city\n",
    "result = df.groupby('city').agg({'temp': ['mean', 'min', 'max']})\n",
    "  \n",
    "result"
   ]
  },
  {
   "cell_type": "code",
   "execution_count": null,
   "id": "5eedde49",
   "metadata": {},
   "outputs": [],
   "source": [
    "# Average  Temprature  for each of the city\n",
    "df.groupby([df[\"year\"], \"city\"])[\"temp\"].mean()"
   ]
  },
  {
   "cell_type": "markdown",
   "id": "10ca07b7",
   "metadata": {},
   "source": [
    "# Data Visualization"
   ]
  },
  {
   "cell_type": "code",
   "execution_count": null,
   "id": "9ea84817",
   "metadata": {},
   "outputs": [],
   "source": [
    "plt.figure(figsize = [20,5]) #[width, height]\n",
    "df.groupby(['year'])['temp'].mean().plot()\n",
    "plt.title( 'Average Annual Temprature in Saudi Arabia')\n",
    "plt.ylabel('Average Temprature in mm')\n",
    "plt.xlabel('Year')\n",
    "plt.xticks(rotation=45)\n",
    "plt.show()"
   ]
  },
  {
   "cell_type": "code",
   "execution_count": null,
   "id": "d4c16a8d",
   "metadata": {},
   "outputs": [],
   "source": [
    "sns.set_style('whitegrid')\n",
    "plt.subplots(figsize=(20,8))\n",
    "plt.title(\"Monthly Average Rainfall\", fontsize=40)\n",
    "sns.barplot(x=\"city\", y=\"temp\", hue='year', data=df)\n",
    "plt.xticks(rotation = 45)\n",
    "plt.xticks(fontsize=18)\n",
    "plt.ylabel(\"Mean Rainfall\",fontsize=20)\n",
    "plt.xlabel(\"Months\",fontsize=20)"
   ]
  },
  {
   "cell_type": "code",
   "execution_count": null,
   "id": "0f5fb15b",
   "metadata": {},
   "outputs": [],
   "source": [
    "# Data Modelding\n"
   ]
  },
  {
   "cell_type": "code",
   "execution_count": null,
   "id": "b4650076",
   "metadata": {},
   "outputs": [],
   "source": [
    "# Plot Regression Line\n",
    "\n",
    "sns.lmplot(x = \"month\", y = \"temp\", data = df, height = 5.2, aspect = 2);\n"
   ]
  },
  {
   "cell_type": "code",
   "execution_count": null,
   "id": "fe09afa3",
   "metadata": {},
   "outputs": [],
   "source": [
    "# Importing train-test-split \n",
    "from sklearn.model_selection import train_test_split\n",
    "\n"
   ]
  },
  {
   "cell_type": "code",
   "execution_count": null,
   "id": "53c9fe26",
   "metadata": {},
   "outputs": [],
   "source": [
    "# Putting feature variable to X\n",
    "X = df.drop('temp',axis=1)\n",
    "\n",
    "# Putting response variable to y\n",
    "y = df['temp']"
   ]
  },
  {
   "cell_type": "code",
   "execution_count": null,
   "id": "f7461c97",
   "metadata": {},
   "outputs": [],
   "source": [
    "# Splitting the data into train and test\n",
    "X_train, X_test, y_train, y_test = train_test_split(X, y, test_size=0.30, random_state = 99)\n",
    "X_train.head()"
   ]
  },
  {
   "cell_type": "code",
   "execution_count": null,
   "id": "a5620b27",
   "metadata": {},
   "outputs": [],
   "source": [
    "# Importing linear regression from sklearn library\n",
    "from sklearn.linear_model import LinearRegression\n",
    "\n",
    "model = LinearRegression()\n",
    "\n",
    "X_train = df[['year', 'month', 'day', 'wind', 'barometer', 'visibility']]\n",
    "y_train = df[['temp']]\n",
    "\n",
    "model.fit(X_train, y_train)\n",
    "\n",
    "print(\"Coefficients:\", model.coef_)\n",
    "print(\"Intercept:\", model.intercept_)"
   ]
  },
  {
   "cell_type": "code",
   "execution_count": null,
   "id": "08e5aa90",
   "metadata": {
    "scrolled": true
   },
   "outputs": [],
   "source": [
    "# Let's check the evaluation metrics of our  model\n",
    "\n",
    "# Importing classification report and confusion matrix from sklearn metrics\n",
    "from sklearn import metrics\n",
    "\n",
    "\n",
    "    \n",
    "# Making predictions\n",
    "y_pred = model.predict(X_test)\n",
    "y_pred\n",
    "\n",
    "\n"
   ]
  },
  {
   "cell_type": "code",
   "execution_count": null,
   "id": "cad2fbf4",
   "metadata": {},
   "outputs": [],
   "source": [
    "x_month = df['month']\n",
    "plt.figure(figsize=(15,6))\n",
    "plt.plot(X_train, y_train,'o', alpha = 0.5)\n",
    "plt.plot(x, y_hat, 'r', alpha = 0.5)\n",
    "plt.xlabel('month')\n",
    "plt.ylabel('temp')\n",
    "print(\"MSE:\", metrics.mean_squared_error(y_pred, y_train))\n",
    "print(\"R^2:\", metrics.r2_score(y_hat, y_train))\n",
    "print(\"var:\", y.var())"
   ]
  },
  {
   "cell_type": "code",
   "execution_count": null,
   "id": "0a38a9b8",
   "metadata": {},
   "outputs": [],
   "source": [
    "X = np.array([2030]).reshape(-1,1)\n",
    "X"
   ]
  }
 ],
 "metadata": {
  "kernelspec": {
   "display_name": "Python 3 (ipykernel)",
   "language": "python",
   "name": "python3"
  },
  "language_info": {
   "codemirror_mode": {
    "name": "ipython",
    "version": 3
   },
   "file_extension": ".py",
   "mimetype": "text/x-python",
   "name": "python",
   "nbconvert_exporter": "python",
   "pygments_lexer": "ipython3",
   "version": "3.9.7"
  }
 },
 "nbformat": 4,
 "nbformat_minor": 5
}
