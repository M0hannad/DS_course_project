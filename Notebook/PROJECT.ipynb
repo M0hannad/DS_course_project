{
 "cells": [
  {
   "cell_type": "code",
   "execution_count": 5,
   "id": "3195b0fb",
   "metadata": {},
   "outputs": [],
   "source": [
    "import pandas as pd\n",
    "import numpy as np\n",
    "import matplotlib.pyplot as plt\n",
    "import seaborn as sns\n",
    "%matplotlib inline"
   ]
  },
  {
   "cell_type": "code",
   "execution_count": 39,
   "id": "cb073831",
   "metadata": {
    "scrolled": true
   },
   "outputs": [
    {
     "data": {
      "text/plain": [
       "(249023, 15)"
      ]
     },
     "execution_count": 39,
     "metadata": {},
     "output_type": "execute_result"
    }
   ],
   "source": [
    "# Reading the csv file and putting it into 'df' object.\n",
    "df = pd.read_csv(r'C:\\Users\\Mohannad\\Documents\\DS_course_project\\data\\weather-sa-2017-2019-clean.csv')\n",
    "\n",
    "df.shape"
   ]
  },
  {
   "cell_type": "code",
   "execution_count": 42,
   "id": "0c1faeeb",
   "metadata": {},
   "outputs": [
    {
     "data": {
      "text/plain": [
       "array(['Clear ', 'Clear ', 'Clear ', ..., 'Passing clouds ', 'Clear ',\n",
       "       'Clear '], dtype=object)"
      ]
     },
     "execution_count": 42,
     "metadata": {},
     "output_type": "execute_result"
    }
   ],
   "source": [
    "df['weather'].values"
   ]
  },
  {
   "cell_type": "code",
   "execution_count": 27,
   "id": "1a6c36dd",
   "metadata": {
    "scrolled": true
   },
   "outputs": [
    {
     "name": "stdout",
     "output_type": "stream",
     "text": [
      "<class 'pandas.core.frame.DataFrame'>\n",
      "RangeIndex: 249023 entries, 0 to 249022\n",
      "Data columns (total 15 columns):\n",
      " #   Column      Non-Null Count   Dtype  \n",
      "---  ------      --------------   -----  \n",
      " 0   Unnamed: 0  249023 non-null  int64  \n",
      " 1   city        249023 non-null  object \n",
      " 2   date        249023 non-null  object \n",
      " 3   time        249023 non-null  object \n",
      " 4   year        249023 non-null  int64  \n",
      " 5   month       249023 non-null  int64  \n",
      " 6   day         249023 non-null  int64  \n",
      " 7   hour        249023 non-null  int64  \n",
      " 8   minute      249023 non-null  int64  \n",
      " 9   weather     249023 non-null  object \n",
      " 10  temp        249023 non-null  int64  \n",
      " 11  wind        249023 non-null  int64  \n",
      " 12  humidity    249006 non-null  object \n",
      " 13  barometer   248951 non-null  float64\n",
      " 14  visibility  249023 non-null  int64  \n",
      "dtypes: float64(1), int64(9), object(5)\n",
      "memory usage: 28.5+ MB\n"
     ]
    }
   ],
   "source": [
    "df.info()"
   ]
  },
  {
   "cell_type": "code",
   "execution_count": 28,
   "id": "b9884f0d",
   "metadata": {
    "scrolled": true
   },
   "outputs": [
    {
     "data": {
      "text/html": [
       "<div>\n",
       "<style scoped>\n",
       "    .dataframe tbody tr th:only-of-type {\n",
       "        vertical-align: middle;\n",
       "    }\n",
       "\n",
       "    .dataframe tbody tr th {\n",
       "        vertical-align: top;\n",
       "    }\n",
       "\n",
       "    .dataframe thead th {\n",
       "        text-align: right;\n",
       "    }\n",
       "</style>\n",
       "<table border=\"1\" class=\"dataframe\">\n",
       "  <thead>\n",
       "    <tr style=\"text-align: right;\">\n",
       "      <th></th>\n",
       "      <th>Unnamed: 0</th>\n",
       "      <th>year</th>\n",
       "      <th>month</th>\n",
       "      <th>day</th>\n",
       "      <th>hour</th>\n",
       "      <th>minute</th>\n",
       "      <th>temp</th>\n",
       "      <th>wind</th>\n",
       "      <th>barometer</th>\n",
       "      <th>visibility</th>\n",
       "    </tr>\n",
       "  </thead>\n",
       "  <tbody>\n",
       "    <tr>\n",
       "      <th>count</th>\n",
       "      <td>249023.000000</td>\n",
       "      <td>249023.000000</td>\n",
       "      <td>249023.000000</td>\n",
       "      <td>249023.000000</td>\n",
       "      <td>249023.000000</td>\n",
       "      <td>249023.000000</td>\n",
       "      <td>249023.000000</td>\n",
       "      <td>249023.000000</td>\n",
       "      <td>248951.000000</td>\n",
       "      <td>249023.000000</td>\n",
       "    </tr>\n",
       "    <tr>\n",
       "      <th>mean</th>\n",
       "      <td>121690.686174</td>\n",
       "      <td>2017.710007</td>\n",
       "      <td>6.050694</td>\n",
       "      <td>15.691081</td>\n",
       "      <td>12.536890</td>\n",
       "      <td>0.131108</td>\n",
       "      <td>24.722624</td>\n",
       "      <td>12.957104</td>\n",
       "      <td>1015.455355</td>\n",
       "      <td>11.053453</td>\n",
       "    </tr>\n",
       "    <tr>\n",
       "      <th>std</th>\n",
       "      <td>71831.546649</td>\n",
       "      <td>0.706113</td>\n",
       "      <td>3.521591</td>\n",
       "      <td>8.787958</td>\n",
       "      <td>6.910254</td>\n",
       "      <td>1.970710</td>\n",
       "      <td>8.880913</td>\n",
       "      <td>8.711619</td>\n",
       "      <td>6.970779</td>\n",
       "      <td>7.053005</td>\n",
       "    </tr>\n",
       "    <tr>\n",
       "      <th>min</th>\n",
       "      <td>0.000000</td>\n",
       "      <td>2017.000000</td>\n",
       "      <td>1.000000</td>\n",
       "      <td>1.000000</td>\n",
       "      <td>1.000000</td>\n",
       "      <td>0.000000</td>\n",
       "      <td>-4.000000</td>\n",
       "      <td>-1.000000</td>\n",
       "      <td>904.000000</td>\n",
       "      <td>-1.000000</td>\n",
       "    </tr>\n",
       "    <tr>\n",
       "      <th>25%</th>\n",
       "      <td>59402.500000</td>\n",
       "      <td>2017.000000</td>\n",
       "      <td>3.000000</td>\n",
       "      <td>8.000000</td>\n",
       "      <td>7.000000</td>\n",
       "      <td>0.000000</td>\n",
       "      <td>18.000000</td>\n",
       "      <td>7.000000</td>\n",
       "      <td>1011.000000</td>\n",
       "      <td>5.000000</td>\n",
       "    </tr>\n",
       "    <tr>\n",
       "      <th>50%</th>\n",
       "      <td>121658.000000</td>\n",
       "      <td>2018.000000</td>\n",
       "      <td>6.000000</td>\n",
       "      <td>16.000000</td>\n",
       "      <td>13.000000</td>\n",
       "      <td>0.000000</td>\n",
       "      <td>24.000000</td>\n",
       "      <td>11.000000</td>\n",
       "      <td>1016.000000</td>\n",
       "      <td>16.000000</td>\n",
       "    </tr>\n",
       "    <tr>\n",
       "      <th>75%</th>\n",
       "      <td>183913.500000</td>\n",
       "      <td>2018.000000</td>\n",
       "      <td>9.000000</td>\n",
       "      <td>23.000000</td>\n",
       "      <td>19.000000</td>\n",
       "      <td>0.000000</td>\n",
       "      <td>31.000000</td>\n",
       "      <td>19.000000</td>\n",
       "      <td>1021.000000</td>\n",
       "      <td>16.000000</td>\n",
       "    </tr>\n",
       "    <tr>\n",
       "      <th>max</th>\n",
       "      <td>246169.000000</td>\n",
       "      <td>2019.000000</td>\n",
       "      <td>12.000000</td>\n",
       "      <td>31.000000</td>\n",
       "      <td>24.000000</td>\n",
       "      <td>59.000000</td>\n",
       "      <td>50.000000</td>\n",
       "      <td>163.000000</td>\n",
       "      <td>1101.000000</td>\n",
       "      <td>161.000000</td>\n",
       "    </tr>\n",
       "  </tbody>\n",
       "</table>\n",
       "</div>"
      ],
      "text/plain": [
       "          Unnamed: 0           year          month            day  \\\n",
       "count  249023.000000  249023.000000  249023.000000  249023.000000   \n",
       "mean   121690.686174    2017.710007       6.050694      15.691081   \n",
       "std     71831.546649       0.706113       3.521591       8.787958   \n",
       "min         0.000000    2017.000000       1.000000       1.000000   \n",
       "25%     59402.500000    2017.000000       3.000000       8.000000   \n",
       "50%    121658.000000    2018.000000       6.000000      16.000000   \n",
       "75%    183913.500000    2018.000000       9.000000      23.000000   \n",
       "max    246169.000000    2019.000000      12.000000      31.000000   \n",
       "\n",
       "                hour         minute           temp           wind  \\\n",
       "count  249023.000000  249023.000000  249023.000000  249023.000000   \n",
       "mean       12.536890       0.131108      24.722624      12.957104   \n",
       "std         6.910254       1.970710       8.880913       8.711619   \n",
       "min         1.000000       0.000000      -4.000000      -1.000000   \n",
       "25%         7.000000       0.000000      18.000000       7.000000   \n",
       "50%        13.000000       0.000000      24.000000      11.000000   \n",
       "75%        19.000000       0.000000      31.000000      19.000000   \n",
       "max        24.000000      59.000000      50.000000     163.000000   \n",
       "\n",
       "           barometer     visibility  \n",
       "count  248951.000000  249023.000000  \n",
       "mean     1015.455355      11.053453  \n",
       "std         6.970779       7.053005  \n",
       "min       904.000000      -1.000000  \n",
       "25%      1011.000000       5.000000  \n",
       "50%      1016.000000      16.000000  \n",
       "75%      1021.000000      16.000000  \n",
       "max      1101.000000     161.000000  "
      ]
     },
     "execution_count": 28,
     "metadata": {},
     "output_type": "execute_result"
    }
   ],
   "source": [
    "df.describe()"
   ]
  },
  {
   "cell_type": "code",
   "execution_count": 29,
   "id": "02ba0ff2",
   "metadata": {},
   "outputs": [
    {
     "data": {
      "text/plain": [
       "Unnamed: 0     0\n",
       "city           0\n",
       "date           0\n",
       "time           0\n",
       "year           0\n",
       "month          0\n",
       "day            0\n",
       "hour           0\n",
       "minute         0\n",
       "weather        0\n",
       "temp           0\n",
       "wind           0\n",
       "humidity      17\n",
       "barometer     72\n",
       "visibility     0\n",
       "dtype: int64"
      ]
     },
     "execution_count": 29,
     "metadata": {},
     "output_type": "execute_result"
    }
   ],
   "source": [
    "# How many missing values\n",
    "df.isnull().sum()"
   ]
  },
  {
   "cell_type": "code",
   "execution_count": 32,
   "id": "743458ec",
   "metadata": {},
   "outputs": [
    {
     "data": {
      "text/plain": [
       "Unnamed: 0    0\n",
       "city          0\n",
       "date          0\n",
       "time          0\n",
       "year          0\n",
       "month         0\n",
       "day           0\n",
       "hour          0\n",
       "minute        0\n",
       "weather       0\n",
       "temp          0\n",
       "wind          0\n",
       "humidity      0\n",
       "barometer     0\n",
       "visibility    0\n",
       "dtype: int64"
      ]
     },
     "execution_count": 32,
     "metadata": {},
     "output_type": "execute_result"
    }
   ],
   "source": [
    "df2 = df.dropna( how='any', subset=['humidity', 'barometer'])\n",
    "df2.isnull().sum()"
   ]
  },
  {
   "cell_type": "code",
   "execution_count": 23,
   "id": "9ea84817",
   "metadata": {},
   "outputs": [
    {
     "data": {
      "text/html": [
       "<div>\n",
       "<style scoped>\n",
       "    .dataframe tbody tr th:only-of-type {\n",
       "        vertical-align: middle;\n",
       "    }\n",
       "\n",
       "    .dataframe tbody tr th {\n",
       "        vertical-align: top;\n",
       "    }\n",
       "\n",
       "    .dataframe thead th {\n",
       "        text-align: right;\n",
       "    }\n",
       "</style>\n",
       "<table border=\"1\" class=\"dataframe\">\n",
       "  <thead>\n",
       "    <tr style=\"text-align: right;\">\n",
       "      <th></th>\n",
       "      <th>temp</th>\n",
       "    </tr>\n",
       "    <tr>\n",
       "      <th>city</th>\n",
       "      <th></th>\n",
       "    </tr>\n",
       "  </thead>\n",
       "  <tbody>\n",
       "    <tr>\n",
       "      <th>Assir</th>\n",
       "      <td>20.257414</td>\n",
       "    </tr>\n",
       "    <tr>\n",
       "      <th>Baha</th>\n",
       "      <td>23.468110</td>\n",
       "    </tr>\n",
       "    <tr>\n",
       "      <th>EP</th>\n",
       "      <td>27.215077</td>\n",
       "    </tr>\n",
       "    <tr>\n",
       "      <th>Hail</th>\n",
       "      <td>25.927837</td>\n",
       "    </tr>\n",
       "    <tr>\n",
       "      <th>Jawf</th>\n",
       "      <td>23.101268</td>\n",
       "    </tr>\n",
       "    <tr>\n",
       "      <th>Jazan</th>\n",
       "      <td>20.711735</td>\n",
       "    </tr>\n",
       "    <tr>\n",
       "      <th>Madina</th>\n",
       "      <td>28.708740</td>\n",
       "    </tr>\n",
       "    <tr>\n",
       "      <th>Mecca</th>\n",
       "      <td>29.023239</td>\n",
       "    </tr>\n",
       "    <tr>\n",
       "      <th>Najran</th>\n",
       "      <td>20.692951</td>\n",
       "    </tr>\n",
       "    <tr>\n",
       "      <th>Northern boarder</th>\n",
       "      <td>24.978799</td>\n",
       "    </tr>\n",
       "    <tr>\n",
       "      <th>Qassim</th>\n",
       "      <td>25.961350</td>\n",
       "    </tr>\n",
       "    <tr>\n",
       "      <th>Riyadh</th>\n",
       "      <td>27.957981</td>\n",
       "    </tr>\n",
       "    <tr>\n",
       "      <th>Tabuk</th>\n",
       "      <td>22.638735</td>\n",
       "    </tr>\n",
       "  </tbody>\n",
       "</table>\n",
       "</div>"
      ],
      "text/plain": [
       "                       temp\n",
       "city                       \n",
       "Assir             20.257414\n",
       "Baha              23.468110\n",
       "EP                27.215077\n",
       "Hail              25.927837\n",
       "Jawf              23.101268\n",
       "Jazan             20.711735\n",
       "Madina            28.708740\n",
       "Mecca             29.023239\n",
       "Najran            20.692951\n",
       "Northern boarder  24.978799\n",
       "Qassim            25.961350\n",
       "Riyadh            27.957981\n",
       "Tabuk             22.638735"
      ]
     },
     "execution_count": 23,
     "metadata": {},
     "output_type": "execute_result"
    }
   ],
   "source": [
    "# Here to display the means per city.\n",
    "df.groupby(by='city')[['temp']].mean()"
   ]
  },
  {
   "cell_type": "code",
   "execution_count": 38,
   "id": "0ade47b4",
   "metadata": {},
   "outputs": [
    {
     "data": {
      "image/png": "[encoded data removed]",
      "text/plain": [
       "<Figure size 1080x576 with 1 Axes>"
      ]
     },
     "metadata": {
      "needs_background": "light"
     },
     "output_type": "display_data"
    }
   ],
   "source": [
    "plt.figure(figsize=(15,8))\n",
    "\n",
    "ax = sns.boxplot(data=df, palette=\"Set2\")"
   ]
  },
  {
   "cell_type": "code",
   "execution_count": null,
   "id": "8da44f5e",
   "metadata": {},
   "outputs": [],
   "source": []
  }
 ],
 "metadata": {
  "kernelspec": {
   "display_name": "Python 3 (ipykernel)",
   "language": "python",
   "name": "python3"
  },
  "language_info": {
   "codemirror_mode": {
    "name": "ipython",
    "version": 3
   },
   "file_extension": ".py",
   "mimetype": "text/x-python",
   "name": "python",
   "nbconvert_exporter": "python",
   "pygments_lexer": "ipython3",
   "version": "3.9.7"
  }
 },
 "nbformat": 4,
 "nbformat_minor": 5
}
